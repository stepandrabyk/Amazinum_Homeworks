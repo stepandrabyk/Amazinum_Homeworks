{
 "cells": [
  {
   "cell_type": "code",
   "execution_count": 108,
   "id": "6276700b",
   "metadata": {},
   "outputs": [],
   "source": [
    "import numpy as np"
   ]
  },
  {
   "cell_type": "code",
   "execution_count": 3,
   "id": "6b95ba01",
   "metadata": {},
   "outputs": [
    {
     "name": "stdout",
     "output_type": "stream",
     "text": [
      "[14, 5]\n"
     ]
    }
   ],
   "source": [
    "#spam\n",
    "def calc_steps(n_floor,n_glass):\n",
    "    \n",
    "    steps=[]\n",
    "    x=n_floor\n",
    "    for i in range(1,n_glass):\n",
    "        x=calc_x(x)\n",
    "        steps.append(x)\n",
    "    print(steps)\n",
    "calc_steps(100,3)      \n",
    "        "
   ]
  },
  {
   "cell_type": "code",
   "execution_count": 1,
   "id": "dfbcd2a8",
   "metadata": {},
   "outputs": [
    {
     "data": {
      "text/plain": [
       "15"
      ]
     },
     "execution_count": 1,
     "metadata": {},
     "output_type": "execute_result"
    }
   ],
   "source": [
    "def sum_1_x(x):\n",
    "    s=0\n",
    "    for i in range(1,x+1):\n",
    "         s+=i\n",
    "    return s\n",
    "sum_1_x(5)"
   ]
  },
  {
   "cell_type": "code",
   "execution_count": 2,
   "id": "b3550e21",
   "metadata": {},
   "outputs": [
    {
     "data": {
      "text/plain": [
       "5"
      ]
     },
     "execution_count": 2,
     "metadata": {},
     "output_type": "execute_result"
    }
   ],
   "source": [
    "def calc_x(cn):\n",
    "    #n_floor = 100\n",
    "    #n_glass=3\n",
    "    #for i in range(1,n_glass+1):\n",
    "    x=0\n",
    "    while(sum_1_x(x)<cn):\n",
    "        x+=1\n",
    "    return x\n",
    "calc_x(12)"
   ]
  },
  {
   "cell_type": "code",
   "execution_count": 4,
   "id": "0efe6e71",
   "metadata": {},
   "outputs": [
    {
     "name": "stdout",
     "output_type": "stream",
     "text": [
      "100\n",
      "14\n",
      "14\n",
      "5\n"
     ]
    }
   ],
   "source": [
    "def calc_pr():\n",
    "    prev_floor=0\n",
    "    cur_floor=prev_floor\n",
    "    crash_floor=2\n",
    "    n_floor=100\n",
    "    x=n_floor\n",
    "    n_glass=3\n",
    "    for i in range(1,n_glass):\n",
    "        print(x)\n",
    "        x=calc_x(x)\n",
    "        print(x)\n",
    "        while cur_floor<crash_floor:\n",
    "            cur_floor = prev_floor+x\n",
    "        x=cur_floor\n",
    "        \n",
    "calc_pr()"
   ]
  },
  {
   "cell_type": "code",
   "execution_count": 26,
   "id": "e4f2acce",
   "metadata": {},
   "outputs": [
    {
     "data": {
      "text/plain": [
       "(4, 7, 9)"
      ]
     },
     "execution_count": 26,
     "metadata": {},
     "output_type": "execute_result"
    }
   ],
   "source": [
    "def calc_steps_with_2_glass(n_floor,n_crash):\n",
    "    n_throw = 0\n",
    "    x=calc_x(n_floor)\n",
    "    #print(x)\n",
    "    cur=0\n",
    "    prev=0\n",
    "    while cur<n_crash:\n",
    "        n_throw+=1\n",
    "        cur+=x\n",
    "        x-=1\n",
    "        #print(x,cur)\n",
    "    prev=cur-x-1\n",
    "    #if(prev == 1):\n",
    "     #   n_throw+=1\n",
    "    #print(prev,cur)\n",
    "    #print(x)\n",
    "    for i in range(prev+1,cur):\n",
    "        if(i<=n_crash and i<cur):\n",
    "            n_throw+=1\n",
    "     #       print(n_throw,i)\n",
    "    return n_throw,prev,cur\n",
    "calc_steps_with_2_glass(10,9)"
   ]
  },
  {
   "cell_type": "code",
   "execution_count": 115,
   "id": "1f2880ff",
   "metadata": {},
   "outputs": [
    {
     "data": {
      "text/plain": [
       "14"
      ]
     },
     "execution_count": 115,
     "metadata": {},
     "output_type": "execute_result"
    }
   ],
   "source": [
    "def find_max_throw(n_floor):\n",
    "    max_throw=0\n",
    "    for i in range(1,n_floor):\n",
    "        x=calc_steps_with_2_glass(n_floor,i)[0]\n",
    "        if(x>max_throw):\n",
    "            max_throw=x\n",
    "        #print(i,x) # it is floor of break glass and max throw to find floor\n",
    "    return max_throw\n",
    "find_max_throw(100)"
   ]
  },
  {
   "cell_type": "code",
   "execution_count": 119,
   "id": "3dcf4bca",
   "metadata": {},
   "outputs": [
    {
     "name": "stdout",
     "output_type": "stream",
     "text": [
      "14 5\n",
      "15 5\n",
      "16 6\n",
      "17 6\n",
      "18 6\n",
      "19 6\n",
      "20 6\n",
      "21 6\n",
      "22 7\n",
      "23 7\n",
      "24 7\n",
      "25 7\n",
      "26 7\n",
      "27 7\n",
      "28 7\n",
      "29 8\n",
      "30 8\n",
      "31 8\n",
      "32 8\n",
      "33 8\n",
      "34 8\n",
      "35 8\n",
      "36 8\n",
      "37 9\n",
      "38 9\n",
      "39 9\n",
      "40 9\n",
      "41 9\n",
      "42 9\n",
      "43 9\n",
      "44 9\n",
      "45 9\n",
      "46 10\n",
      "47 10\n",
      "48 10\n",
      "49 10\n",
      "50 10\n",
      "51 10\n",
      "52 10\n",
      "53 10\n",
      "54 10\n",
      "55 10\n",
      "56 11\n",
      "57 11\n",
      "58 11\n",
      "59 11\n",
      "60 11\n",
      "61 11\n",
      "62 11\n",
      "63 11\n",
      "64 11\n",
      "65 11\n",
      "66 11\n",
      "67 12\n",
      "68 12\n",
      "69 12\n",
      "70 12\n",
      "71 12\n",
      "72 12\n",
      "73 12\n",
      "74 12\n",
      "75 12\n",
      "76 12\n",
      "77 12\n",
      "78 12\n",
      "79 13\n",
      "80 13\n",
      "81 13\n",
      "82 13\n",
      "83 13\n",
      "84 13\n",
      "85 13\n",
      "86 13\n",
      "87 13\n",
      "88 13\n",
      "89 13\n",
      "90 13\n",
      "91 13\n",
      "92 14\n",
      "93 14\n",
      "94 14\n",
      "95 14\n",
      "96 14\n",
      "97 14\n",
      "98 14\n",
      "99 14\n"
     ]
    }
   ],
   "source": [
    "for i in range(14,100):\n",
    "    print( i,find_max_throw(i))"
   ]
  },
  {
   "cell_type": "code",
   "execution_count": 111,
   "id": "ab386a3e",
   "metadata": {},
   "outputs": [
    {
     "data": {
      "text/plain": [
       "[[36, 8], [28, 7], [21, 6], [15, 5]]"
      ]
     },
     "execution_count": 111,
     "metadata": {},
     "output_type": "execute_result"
    }
   ],
   "source": [
    "def calc_steps_for_three_glass(n_floor):\n",
    "    k=[]\n",
    "    cur_max_throw=calc_x(n_floor)\n",
    "    prev_max_throw=calc_x(n_floor)\n",
    "    for i in range(calc_x(n_floor)+1,n_floor):\n",
    "        #print(i, find_max_throw(i))\n",
    "        if find_max_throw(i)>find_max_throw(cur_max_throw):\n",
    "            k.append([i-1,find_max_throw(i-1)])\n",
    "            #print(i-1,find_max_throw(i))\n",
    "            cur_max_throw=i\n",
    "\n",
    "    #print(k)\n",
    "    throws=[]\n",
    "    summ=0\n",
    "    for i in k:\n",
    "        if summ<n_floor:\n",
    "            summ+=i[0]\n",
    "            #print(i)\n",
    "            throws.append(i)\n",
    "    return throws[::-1]\n",
    "calc_steps_for_three_glass(100)  "
   ]
  },
  {
   "cell_type": "code",
   "execution_count": 110,
   "id": "172b1427",
   "metadata": {},
   "outputs": [
    {
     "data": {
      "text/plain": [
       "9"
      ]
     },
     "execution_count": 110,
     "metadata": {},
     "output_type": "execute_result"
    }
   ],
   "source": [
    "def calc_max_throw_for_3_glass(n_floor):\n",
    "    throws=calc_steps_for_three_glass(n_floor)\n",
    "    #print(throws)\n",
    "    throws = [x[1] for x in throws]\n",
    "    #print(throws)\n",
    "    return max(np.array(throws) + np.array([*range(1,len(throws)+1)]))\n",
    "calc_max_throw_for_3_glass(100)"
   ]
  },
  {
   "cell_type": "code",
   "execution_count": 101,
   "id": "22f705d3",
   "metadata": {},
   "outputs": [
    {
     "data": {
      "text/plain": [
       "[15, 5]"
      ]
     },
     "execution_count": 101,
     "metadata": {},
     "output_type": "execute_result"
    }
   ],
   "source": [
    "calc_steps_for_three_glass(50)[2]"
   ]
  },
  {
   "cell_type": "code",
   "execution_count": 81,
   "id": "2961809c",
   "metadata": {
    "scrolled": true
   },
   "outputs": [
    {
     "ename": "NameError",
     "evalue": "name 'find_max_throw14' is not defined",
     "output_type": "error",
     "traceback": [
      "\u001b[1;31m---------------------------------------------------------------------------\u001b[0m",
      "\u001b[1;31mNameError\u001b[0m                                 Traceback (most recent call last)",
      "Cell \u001b[1;32mIn [81], line 1\u001b[0m\n\u001b[1;32m----> 1\u001b[0m \u001b[43mfind_max_throw14\u001b[49m\n",
      "\u001b[1;31mNameError\u001b[0m: name 'find_max_throw14' is not defined"
     ]
    }
   ],
   "source": [
    "find_max_throw(14)"
   ]
  },
  {
   "cell_type": "code",
   "execution_count": null,
   "id": "efe180a6",
   "metadata": {},
   "outputs": [],
   "source": []
  },
  {
   "cell_type": "code",
   "execution_count": null,
   "id": "433903bf",
   "metadata": {},
   "outputs": [],
   "source": []
  }
 ],
 "metadata": {
  "kernelspec": {
   "display_name": "Python 3 (ipykernel)",
   "language": "python",
   "name": "python3"
  },
  "language_info": {
   "codemirror_mode": {
    "name": "ipython",
    "version": 3
   },
   "file_extension": ".py",
   "mimetype": "text/x-python",
   "name": "python",
   "nbconvert_exporter": "python",
   "pygments_lexer": "ipython3",
   "version": "3.8.5"
  }
 },
 "nbformat": 4,
 "nbformat_minor": 5
}
