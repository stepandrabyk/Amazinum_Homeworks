{
 "cells": [
  {
   "cell_type": "code",
   "execution_count": 1,
   "id": "8c2ac214",
   "metadata": {},
   "outputs": [],
   "source": [
    "import os\n",
    "import pandas as pd\n",
    "import numpy as np\n",
    "import math"
   ]
  },
  {
   "cell_type": "code",
   "execution_count": 2,
   "id": "c26c6f79",
   "metadata": {
    "scrolled": true
   },
   "outputs": [
    {
     "name": "stdout",
     "output_type": "stream",
     "text": [
      "<class 'pandas.core.frame.DataFrame'>\n",
      "RangeIndex: 891 entries, 0 to 890\n",
      "Data columns (total 12 columns):\n",
      " #   Column       Non-Null Count  Dtype  \n",
      "---  ------       --------------  -----  \n",
      " 0   PassengerId  891 non-null    int64  \n",
      " 1   Survived     891 non-null    int64  \n",
      " 2   Pclass       891 non-null    int64  \n",
      " 3   Name         891 non-null    object \n",
      " 4   Sex          891 non-null    object \n",
      " 5   Age          714 non-null    float64\n",
      " 6   SibSp        891 non-null    int64  \n",
      " 7   Parch        891 non-null    int64  \n",
      " 8   Ticket       891 non-null    object \n",
      " 9   Fare         891 non-null    float64\n",
      " 10  Cabin        204 non-null    object \n",
      " 11  Embarked     889 non-null    object \n",
      "dtypes: float64(2), int64(5), object(5)\n",
      "memory usage: 83.7+ KB\n"
     ]
    }
   ],
   "source": [
    "cwd= os.getcwd() # current working directory\n",
    "path = os.path.join(cwd,'data')\n",
    "\n",
    "def get_train_set():\n",
    "    fp = os.path.join(path,'train.csv')\n",
    "    df_train = pd.read_csv(fp, encoding='ISO-8859-1',low_memory=False) \n",
    "    return df_train\n",
    "\n",
    "df_train = get_train_set()\n",
    "df_train.info()\n"
   ]
  },
  {
   "cell_type": "code",
   "execution_count": 3,
   "id": "791062e3",
   "metadata": {
    "scrolled": false
   },
   "outputs": [
    {
     "name": "stdout",
     "output_type": "stream",
     "text": [
      "<class 'pandas.core.frame.DataFrame'>\n",
      "RangeIndex: 418 entries, 0 to 417\n",
      "Data columns (total 11 columns):\n",
      " #   Column       Non-Null Count  Dtype  \n",
      "---  ------       --------------  -----  \n",
      " 0   PassengerId  418 non-null    int64  \n",
      " 1   Pclass       418 non-null    int64  \n",
      " 2   Name         418 non-null    object \n",
      " 3   Sex          418 non-null    object \n",
      " 4   Age          332 non-null    float64\n",
      " 5   SibSp        418 non-null    int64  \n",
      " 6   Parch        418 non-null    int64  \n",
      " 7   Ticket       418 non-null    object \n",
      " 8   Fare         417 non-null    float64\n",
      " 9   Cabin        91 non-null     object \n",
      " 10  Embarked     418 non-null    object \n",
      "dtypes: float64(2), int64(4), object(5)\n",
      "memory usage: 36.0+ KB\n"
     ]
    }
   ],
   "source": [
    "def get_test_set():\n",
    "    fp = os.path.join(path,'test.csv')\n",
    "    df_test = pd.read_csv(fp, encoding='ISO-8859-1',low_memory=False) \n",
    "    return df_test\n",
    "df_test=get_test_set()\n",
    "\n",
    "df_test.info()"
   ]
  },
  {
   "cell_type": "code",
   "execution_count": 4,
   "id": "009f7a19",
   "metadata": {},
   "outputs": [],
   "source": [
    "def develop_family_size(df_train,df_test):\n",
    "    df_train['FamilySize']=df_train['SibSp']+df_train['Parch']+1\n",
    "    df_test['FamilySize']=df_test['SibSp']+df_test['Parch']+1\n",
    "    return df_train,df_test\n",
    "df_train,df_test=develop_family_size(df_train,df_test)"
   ]
  },
  {
   "cell_type": "code",
   "execution_count": 77,
   "id": "2f9fad86",
   "metadata": {},
   "outputs": [
    {
     "name": "stdout",
     "output_type": "stream",
     "text": [
      "Extracting features.\n"
     ]
    },
    {
     "data": {
      "text/plain": [
       "(891, 9)"
      ]
     },
     "execution_count": 77,
     "metadata": {},
     "output_type": "execute_result"
    }
   ],
   "source": [
    "def get_X_train_test(df_train, df_test): \n",
    "    print ('Extracting features.')\n",
    "# List of features to consider\n",
    "    cols_to_keep= ['PassengerId',\n",
    "     'Pclass',\n",
    "     'Sex',\n",
    "     'Age',\n",
    "     'SibSp',\n",
    "     'Parch',\n",
    "     'Fare',\n",
    "     'Embarked',\n",
    "     'FamilySize',]\n",
    "    X_train = df_train[cols_to_keep]\n",
    "    X_test = df_test[cols_to_keep]\n",
    "    return X_train, X_test, cols_to_keep\n",
    "\n",
    "X_train, X_test, features  = get_X_train_test(df_train, df_test)\n",
    "\n",
    "y_train = df_train['Survived']\n",
    "\n",
    "X_train.shape"
   ]
  },
  {
   "cell_type": "code",
   "execution_count": 78,
   "id": "7a4f89da",
   "metadata": {},
   "outputs": [],
   "source": [
    "from sklearn.preprocessing import LabelEncoder\n",
    "columns_to_encode = ['Sex','Embarked']"
   ]
  },
  {
   "cell_type": "code",
   "execution_count": 79,
   "id": "02c6fda0",
   "metadata": {},
   "outputs": [
    {
     "name": "stdout",
     "output_type": "stream",
     "text": [
      "label encoding.\n"
     ]
    },
    {
     "data": {
      "text/plain": [
       "PassengerId      int64\n",
       "Pclass           int64\n",
       "Sex              int32\n",
       "Age            float64\n",
       "SibSp            int64\n",
       "Parch            int64\n",
       "Fare           float64\n",
       "Embarked         int32\n",
       "FamilySize       int64\n",
       "dtype: object"
      ]
     },
     "execution_count": 79,
     "metadata": {},
     "output_type": "execute_result"
    }
   ],
   "source": [
    "def label_encoder(X_train,X_test):    \n",
    "    print ('label encoding.')\n",
    "    X_train = X_train.copy() # to avoid warning related to setting the copy...\n",
    "    X_test = X_test.copy() # to avoid warning related to setting the copy...\n",
    "\n",
    "    for col in columns_to_encode:\n",
    "        le = LabelEncoder().fit(X_train[col].astype(str)) # convert to str first since le may fail due to difference type of data\n",
    "        X_train[col] = le.transform(X_train[col].astype(str))\n",
    "        X_test[col] = le.transform(X_test[col].astype(str))\n",
    "    return X_train,X_test\n",
    "\n",
    "X_train,X_test= label_encoder(X_train,X_test)\n",
    "X_train.dtypes"
   ]
  },
  {
   "cell_type": "code",
   "execution_count": 80,
   "id": "8f752cc1",
   "metadata": {},
   "outputs": [
    {
     "name": "stdout",
     "output_type": "stream",
     "text": [
      "filling NaN...\n",
      "filling NaN...\n"
     ]
    },
    {
     "data": {
      "text/plain": [
       "(False, False)"
      ]
     },
     "execution_count": 80,
     "metadata": {},
     "output_type": "execute_result"
    }
   ],
   "source": [
    "def fill_na(df,list_col):\n",
    "    print ('filling NaN...')\n",
    "    for col in list_col:\n",
    "        if df[col].isna().any():\n",
    "            median=df[col].median()\n",
    "            df[col]= df[col].fillna(median)\n",
    "fill_na(X_train,['Age'])\n",
    "fill_na(X_test,['Age','Fare'])\n",
    "# check after fillna \n",
    "X_train.isna().any().any(), X_test.isna().any().any()"
   ]
  },
  {
   "cell_type": "code",
   "execution_count": 81,
   "id": "0a4720d6",
   "metadata": {},
   "outputs": [],
   "source": [
    "def convert_age(age):\n",
    "    if(math.isnan(age)):\n",
    "        return float('NaN')\n",
    "    if age<15:\n",
    "        return 0\n",
    "    elif age<30:\n",
    "        return 1\n",
    "    elif age<50:\n",
    "        return 2\n",
    "    else: return 3 \n",
    "#df_train=convert_age(df_train['Age'])\n",
    "X_train['Age_Category'] = [convert_age(age) for age in X_train['Age']]\n",
    "X_test['Age_Category'] = [convert_age(age) for age in X_test['Age']]\n",
    "features.append('Age_Category')\n",
    "\n",
    "X_train.drop('Age',axis=1,inplace=True)\n",
    "X_test.drop('Age',axis=1,inplace=True)\n",
    "features.remove('Age')"
   ]
  },
  {
   "cell_type": "code",
   "execution_count": 82,
   "id": "dcefb349",
   "metadata": {},
   "outputs": [
    {
     "data": {
      "text/plain": [
       "PassengerId     0\n",
       "Pclass          0\n",
       "Sex             0\n",
       "SibSp           0\n",
       "Parch           0\n",
       "Fare            0\n",
       "Embarked        0\n",
       "FamilySize      0\n",
       "Age_Category    0\n",
       "dtype: int64"
      ]
     },
     "execution_count": 82,
     "metadata": {},
     "output_type": "execute_result"
    }
   ],
   "source": [
    "X_train.isna().sum()"
   ]
  },
  {
   "cell_type": "code",
   "execution_count": 83,
   "id": "d446b79c",
   "metadata": {},
   "outputs": [
    {
     "name": "stdout",
     "output_type": "stream",
     "text": [
      "normalizing.\n"
     ]
    },
    {
     "data": {
      "text/plain": [
       "numpy.ndarray"
      ]
     },
     "execution_count": 83,
     "metadata": {},
     "output_type": "execute_result"
    }
   ],
   "source": [
    "from sklearn.preprocessing import MinMaxScaler\n",
    "def normalize(X_train, X_test):\n",
    "    print ('normalizing.')\n",
    "    scaler= MinMaxScaler()\n",
    "    X_train_scaled= scaler.fit_transform(X_train)\n",
    "    X_test_scaled = scaler.transform(X_test)\n",
    "    return X_train_scaled, X_test_scaled \n",
    "\n",
    "X_train_scal, X_test_scaled  = normalize(X_train, X_test)\n",
    "type(X_train_scal)"
   ]
  },
  {
   "cell_type": "code",
   "execution_count": 84,
   "id": "c2b0cc13",
   "metadata": {},
   "outputs": [],
   "source": [
    "from sklearn.linear_model import LogisticRegression\n",
    "from sklearn.model_selection import GridSearchCV\n",
    "from sklearn.tree import DecisionTreeClassifier\n",
    "from sklearn.ensemble import RandomForestClassifier\n",
    "from sklearn.svm import SVC\n",
    "from sklearn.neural_network import MLPClassifier\n",
    "from sklearn.ensemble import GradientBoostingClassifier \n",
    "from xgboost import XGBClassifier"
   ]
  },
  {
   "cell_type": "markdown",
   "id": "303b09e8",
   "metadata": {},
   "source": [
    "Split train dataset "
   ]
  },
  {
   "cell_type": "code",
   "execution_count": 85,
   "id": "3216ce5c",
   "metadata": {},
   "outputs": [],
   "source": [
    "from sklearn.model_selection import train_test_split\n",
    "import matplotlib.pyplot as plt"
   ]
  },
  {
   "cell_type": "code",
   "execution_count": 86,
   "id": "6ec6aee2",
   "metadata": {},
   "outputs": [],
   "source": [
    "def apply_preprocessing(df_train,df_test):\n",
    "    df_train,df_test=develop_family_size(df_train,df_test)\n",
    "    \n",
    "    X_train, X_test, features  = get_X_train_test(df_train, df_test)\n",
    "    y_train = df_train['Survived']\n",
    "    \n",
    "    X_train,X_test= label_encoder(X_train,X_test)\n",
    "    \n",
    "    fill_na(X_train,['Age'])\n",
    "    fill_na(X_test,['Age','Fare'])\n",
    "    X_train['Age_Category'] = [convert_age(age) for age in X_train['Age']]\n",
    "    X_test['Age_Category'] = [convert_age(age) for age in X_test['Age']]\n",
    "    features.append('Age_Category')\n",
    "\n",
    "    X_train.drop('Age',axis=1,inplace=True)\n",
    "    X_test.drop('Age',axis=1,inplace=True)\n",
    "    features.remove('Age')\n",
    "    \n",
    "    X_train_scal, X_test_scaled  = normalize(X_train, X_test)\n",
    "    \n",
    "    X_train_scaled, X_train_test,y_train,y_train_test = train_test_split(X_train_scal,y_train,test_size=0.2)\n",
    "    return X_train_scaled, X_train_test,y_train,y_train_test, X_test_scaled\n",
    "    "
   ]
  },
  {
   "cell_type": "code",
   "execution_count": 87,
   "id": "7d2e3860",
   "metadata": {
    "scrolled": true
   },
   "outputs": [
    {
     "name": "stdout",
     "output_type": "stream",
     "text": [
      "Extracting features.\n",
      "label encoding.\n",
      "filling NaN...\n",
      "filling NaN...\n",
      "normalizing.\n"
     ]
    }
   ],
   "source": [
    "X_train_scaled, X_train_test,y_train,y_train_test,X_test_scaled = apply_preprocessing(df_train,df_test)"
   ]
  },
  {
   "cell_type": "code",
   "execution_count": 88,
   "id": "18f514d2",
   "metadata": {},
   "outputs": [
    {
     "name": "stdout",
     "output_type": "stream",
     "text": [
      "Grid best parameter (max f1 ):  {'C': 1}\n",
      "Grid best score (f1):  0.7934994582881908\n",
      "0.7949438202247191\n",
      "0.8268156424581006\n"
     ]
    }
   ],
   "source": [
    "clf = LogisticRegression(max_iter=10000)\n",
    "grid_values = {'C': [0.005, 0.01,0.1, 1, 100, 10000, 100000]}\n",
    "grid_clf = GridSearchCV(clf, param_grid=grid_values,scoring='accuracy')\n",
    "grid_clf.fit(X_train_scaled, y_train)\n",
    "print('Grid best parameter (max f1 ): ', grid_clf.best_params_) \n",
    "print('Grid best score (f1): ', grid_clf.best_score_) \n",
    "print(grid_clf.score(X_train_scaled,y_train))\n",
    " \n",
    "print(grid_clf.score(X_train_test,y_train_test))"
   ]
  },
  {
   "cell_type": "code",
   "execution_count": 89,
   "id": "c1939daa",
   "metadata": {},
   "outputs": [
    {
     "name": "stdout",
     "output_type": "stream",
     "text": [
      "Grid best parameter (max f1 ):  {'C': 1}\n",
      "Grid best score (f1):  0.8286417807544568\n",
      "train accuracy= 83.708%\n",
      "test accuracy= 83.240%\n"
     ]
    }
   ],
   "source": [
    "clf = SVC(kernel='poly')           \n",
    "grid_values = {'C': [0.01, 0.1, 1, 100, 200]}\n",
    "grid_clf = GridSearchCV(clf, param_grid=grid_values,scoring='accuracy')\n",
    "grid_clf.fit(X_train_scaled, y_train)\n",
    "print('Grid best parameter (max f1 ): ', grid_clf.best_params_) \n",
    "print('Grid best score (f1): ', grid_clf.best_score_) \n",
    "print(\"train accuracy= {:.3%}\".format(grid_clf.score(X_train_scaled,y_train)))\n",
    "print(\"test accuracy= {:.3%}\".format(grid_clf.score(X_train_test,y_train_test)))"
   ]
  },
  {
   "cell_type": "code",
   "execution_count": 90,
   "id": "bf6de27d",
   "metadata": {},
   "outputs": [
    {
     "name": "stdout",
     "output_type": "stream",
     "text": [
      "Grid best parameter (max f1 ):  {'C': 100, 'gamma': 0.1}\n",
      "Grid best score (f1):  0.8216093765389539\n",
      "train accuracy= 83.427%\n",
      "test accuracy= 83.240%\n"
     ]
    }
   ],
   "source": [
    "clf = SVC(kernel='rbf')\n",
    "grid_values = {'C': [0.005, 0.01, 0.02, 0.03, 0.1, 1, 100, 10000], 'gamma':[0.001, 0.01, 0.1,1]}\n",
    "grid_clf = GridSearchCV(clf, param_grid=grid_values,scoring='accuracy')\n",
    "grid_clf.fit(X_train_scaled, y_train)\n",
    "print('Grid best parameter (max f1 ): ', grid_clf.best_params_) \n",
    "print('Grid best score (f1): ', grid_clf.best_score_) \n",
    "print(\"train accuracy= {:.3%}\".format(grid_clf.score(X_train_scaled,y_train)))\n",
    " \n",
    "print(\"test accuracy= {:.3%}\".format(grid_clf.score(X_train_test,y_train_test)))"
   ]
  },
  {
   "cell_type": "code",
   "execution_count": 34,
   "id": "96225b96",
   "metadata": {},
   "outputs": [
    {
     "name": "stdout",
     "output_type": "stream",
     "text": [
      "Grid best parameter (max f1 ):  {'max_depth': 5}\n",
      "Grid best score (f1):  0.7892839554811386\n",
      "train accuracy= 84.691%\n",
      "test accuracy= 83.799%\n"
     ]
    }
   ],
   "source": [
    "clf = DecisionTreeClassifier()\n",
    "grid_values = {'max_depth': [2,5]}#,7, 20, 50]}\n",
    "grid_clf = GridSearchCV(clf, param_grid=grid_values,scoring='accuracy')\n",
    "grid_clf.fit(X_train_scaled, y_train)\n",
    "print('Grid best parameter (max f1 ): ', grid_clf.best_params_) \n",
    "print('Grid best score (f1): ', grid_clf.best_score_) \n",
    "print(\"train accuracy= {:.3%}\".format(grid_clf.score(X_train_scaled,y_train)))\n",
    "print(\"test accuracy= {:.3%}\".format(grid_clf.score(X_train_test,y_train_test)))"
   ]
  },
  {
   "cell_type": "code",
   "execution_count": 39,
   "id": "f70c069d",
   "metadata": {
    "scrolled": true
   },
   "outputs": [
    {
     "name": "stdout",
     "output_type": "stream",
     "text": [
      "Grid best parameter (max f1 ):  {'max_depth': 5, 'min_samples_split': 4, 'n_estimators': 10}\n",
      "Grid best score (f1):  0.8229784300206836\n",
      "train accuracy= 85.955%\n",
      "test accuracy= 82.123%\n"
     ]
    }
   ],
   "source": [
    "clf = RandomForestClassifier()     \n",
    "grid_values = {'n_estimators': [10,20],'max_depth':[1,3,5],'min_samples_split':[2,3,4]} #,200,300]}\n",
    "grid_clf = GridSearchCV(clf, param_grid=grid_values,scoring='accuracy')\n",
    "grid_clf.fit(X_train_scaled, y_train)\n",
    "print('Grid best parameter (max f1 ): ', grid_clf.best_params_) \n",
    "print('Grid best score (f1): ', grid_clf.best_score_) \n",
    "print(\"train accuracy= {:.3%}\".format(grid_clf.score(X_train_scaled,y_train)))\n",
    " \n",
    "print(\"test accuracy= {:.3%}\".format(grid_clf.score(X_train_test,y_train_test)))"
   ]
  },
  {
   "cell_type": "code",
   "execution_count": 44,
   "id": "9078183f",
   "metadata": {},
   "outputs": [
    {
     "name": "stdout",
     "output_type": "stream",
     "text": [
      "Grid best parameter (max f1 ):  {'alpha': 1}\n",
      "Grid best score (f1):  0.806155816014971\n",
      "train accuracy= 83.006%\n",
      "test accuracy= 84.916%\n"
     ]
    }
   ],
   "source": [
    "clf = MLPClassifier(hidden_layer_sizes = [50,10,10],max_iter=2000) #, 100])\n",
    "grid_values = {'alpha' : [0.001, 0.01, 0.1, 1, 10]}\n",
    "grid_clf = GridSearchCV(clf, param_grid=grid_values,scoring='accuracy')\n",
    "grid_clf.fit(X_train_scaled, y_train)\n",
    "print('Grid best parameter (max f1 ): ', grid_clf.best_params_) \n",
    "print('Grid best score (f1): ', grid_clf.best_score_) \n",
    "print(\"train accuracy= {:.3%}\".format(grid_clf.score(X_train_scaled,y_train)))\n",
    " \n",
    "print(\"test accuracy= {:.3%}\".format(grid_clf.score(X_train_test,y_train_test)))"
   ]
  },
  {
   "cell_type": "code",
   "execution_count": 54,
   "id": "d1295255",
   "metadata": {},
   "outputs": [
    {
     "name": "stdout",
     "output_type": "stream",
     "text": [
      "train accuracy= 82.303%\n",
      "test accuracy= 83.240%\n"
     ]
    }
   ],
   "source": [
    "clf = XGBClassifier(max_depth=2,gamma = 5).fit(X_train_scaled, y_train)\n",
    "print(\"train accuracy= {:.3%}\".format(clf.score(X_train_scaled,y_train)))\n",
    "print(\"test accuracy= {:.3%}\".format(clf.score(X_train_test,y_train_test)))"
   ]
  },
  {
   "cell_type": "code",
   "execution_count": 19,
   "id": "7ec8acf0",
   "metadata": {},
   "outputs": [],
   "source": [
    "def plot_feature_importances(clf, features):\n",
    "    plt.figure(figsize=(6, 6), dpi=80)\n",
    "    c_features = len(features)\n",
    "    plt.barh(range(c_features), clf.feature_importances_)\n",
    "    plt.xlabel(\"Feature importance\")\n",
    "    plt.ylabel(\"Feature name\")\n",
    "    plt.yticks(np.arange(c_features), features)\n"
   ]
  },
  {
   "cell_type": "code",
   "execution_count": 55,
   "id": "a85598a5",
   "metadata": {},
   "outputs": [
    {
     "data": {
      "image/png": "[encoded data removed]",
      "text/plain": [
       "<Figure size 480x480 with 1 Axes>"
      ]
     },
     "metadata": {},
     "output_type": "display_data"
    }
   ],
   "source": [
    "#for XGB\n",
    "y_train_all=df_train['Survived']\n",
    "clf.fit(X_train_scal, y_train_all)\n",
    "plot_feature_importances(clf, features)"
   ]
  },
  {
   "cell_type": "code",
   "execution_count": 56,
   "id": "e86d3706",
   "metadata": {},
   "outputs": [],
   "source": [
    "predictions = clf.predict(X_test_scaled)"
   ]
  },
  {
   "cell_type": "code",
   "execution_count": 57,
   "id": "5a0e9007",
   "metadata": {},
   "outputs": [],
   "source": [
    "final_df = pd.DataFrame(X_test['PassengerId'])\n",
    "final_df['Survived']=predictions"
   ]
  },
  {
   "cell_type": "code",
   "execution_count": 58,
   "id": "1153723c",
   "metadata": {},
   "outputs": [],
   "source": [
    "final_df.to_csv('data/predictions_xgb.csv',index=False)"
   ]
  },
  {
   "cell_type": "code",
   "execution_count": 103,
   "id": "3ac259ed",
   "metadata": {},
   "outputs": [
    {
     "data": {
      "text/html": [
       "<div>\n",
       "<style scoped>\n",
       "    .dataframe tbody tr th:only-of-type {\n",
       "        vertical-align: middle;\n",
       "    }\n",
       "\n",
       "    .dataframe tbody tr th {\n",
       "        vertical-align: top;\n",
       "    }\n",
       "\n",
       "    .dataframe thead th {\n",
       "        text-align: right;\n",
       "    }\n",
       "</style>\n",
       "<table border=\"1\" class=\"dataframe\">\n",
       "  <thead>\n",
       "    <tr style=\"text-align: right;\">\n",
       "      <th></th>\n",
       "      <th>PassengerId</th>\n",
       "      <th>Pclass</th>\n",
       "      <th>Sex</th>\n",
       "      <th>SibSp</th>\n",
       "      <th>Parch</th>\n",
       "      <th>Fare</th>\n",
       "      <th>Embarked</th>\n",
       "      <th>FamilySize</th>\n",
       "      <th>Age_Category</th>\n",
       "    </tr>\n",
       "  </thead>\n",
       "  <tbody>\n",
       "    <tr>\n",
       "      <th>0</th>\n",
       "      <td>892</td>\n",
       "      <td>3</td>\n",
       "      <td>1</td>\n",
       "      <td>0</td>\n",
       "      <td>0</td>\n",
       "      <td>7.8292</td>\n",
       "      <td>1</td>\n",
       "      <td>1</td>\n",
       "      <td>2</td>\n",
       "    </tr>\n",
       "    <tr>\n",
       "      <th>1</th>\n",
       "      <td>893</td>\n",
       "      <td>3</td>\n",
       "      <td>0</td>\n",
       "      <td>1</td>\n",
       "      <td>0</td>\n",
       "      <td>7.0000</td>\n",
       "      <td>2</td>\n",
       "      <td>2</td>\n",
       "      <td>2</td>\n",
       "    </tr>\n",
       "    <tr>\n",
       "      <th>2</th>\n",
       "      <td>894</td>\n",
       "      <td>2</td>\n",
       "      <td>1</td>\n",
       "      <td>0</td>\n",
       "      <td>0</td>\n",
       "      <td>9.6875</td>\n",
       "      <td>1</td>\n",
       "      <td>1</td>\n",
       "      <td>3</td>\n",
       "    </tr>\n",
       "    <tr>\n",
       "      <th>3</th>\n",
       "      <td>895</td>\n",
       "      <td>3</td>\n",
       "      <td>1</td>\n",
       "      <td>0</td>\n",
       "      <td>0</td>\n",
       "      <td>8.6625</td>\n",
       "      <td>2</td>\n",
       "      <td>1</td>\n",
       "      <td>1</td>\n",
       "    </tr>\n",
       "    <tr>\n",
       "      <th>4</th>\n",
       "      <td>896</td>\n",
       "      <td>3</td>\n",
       "      <td>0</td>\n",
       "      <td>1</td>\n",
       "      <td>1</td>\n",
       "      <td>12.2875</td>\n",
       "      <td>2</td>\n",
       "      <td>3</td>\n",
       "      <td>1</td>\n",
       "    </tr>\n",
       "    <tr>\n",
       "      <th>...</th>\n",
       "      <td>...</td>\n",
       "      <td>...</td>\n",
       "      <td>...</td>\n",
       "      <td>...</td>\n",
       "      <td>...</td>\n",
       "      <td>...</td>\n",
       "      <td>...</td>\n",
       "      <td>...</td>\n",
       "      <td>...</td>\n",
       "    </tr>\n",
       "    <tr>\n",
       "      <th>413</th>\n",
       "      <td>1305</td>\n",
       "      <td>3</td>\n",
       "      <td>1</td>\n",
       "      <td>0</td>\n",
       "      <td>0</td>\n",
       "      <td>8.0500</td>\n",
       "      <td>2</td>\n",
       "      <td>1</td>\n",
       "      <td>1</td>\n",
       "    </tr>\n",
       "    <tr>\n",
       "      <th>414</th>\n",
       "      <td>1306</td>\n",
       "      <td>1</td>\n",
       "      <td>0</td>\n",
       "      <td>0</td>\n",
       "      <td>0</td>\n",
       "      <td>108.9000</td>\n",
       "      <td>0</td>\n",
       "      <td>1</td>\n",
       "      <td>2</td>\n",
       "    </tr>\n",
       "    <tr>\n",
       "      <th>415</th>\n",
       "      <td>1307</td>\n",
       "      <td>3</td>\n",
       "      <td>1</td>\n",
       "      <td>0</td>\n",
       "      <td>0</td>\n",
       "      <td>7.2500</td>\n",
       "      <td>2</td>\n",
       "      <td>1</td>\n",
       "      <td>2</td>\n",
       "    </tr>\n",
       "    <tr>\n",
       "      <th>416</th>\n",
       "      <td>1308</td>\n",
       "      <td>3</td>\n",
       "      <td>1</td>\n",
       "      <td>0</td>\n",
       "      <td>0</td>\n",
       "      <td>8.0500</td>\n",
       "      <td>2</td>\n",
       "      <td>1</td>\n",
       "      <td>1</td>\n",
       "    </tr>\n",
       "    <tr>\n",
       "      <th>417</th>\n",
       "      <td>1309</td>\n",
       "      <td>3</td>\n",
       "      <td>1</td>\n",
       "      <td>1</td>\n",
       "      <td>1</td>\n",
       "      <td>22.3583</td>\n",
       "      <td>0</td>\n",
       "      <td>3</td>\n",
       "      <td>1</td>\n",
       "    </tr>\n",
       "  </tbody>\n",
       "</table>\n",
       "<p>418 rows × 9 columns</p>\n",
       "</div>"
      ],
      "text/plain": [
       "     PassengerId  Pclass  Sex  SibSp  Parch      Fare  Embarked  FamilySize  \\\n",
       "0            892       3    1      0      0    7.8292         1           1   \n",
       "1            893       3    0      1      0    7.0000         2           2   \n",
       "2            894       2    1      0      0    9.6875         1           1   \n",
       "3            895       3    1      0      0    8.6625         2           1   \n",
       "4            896       3    0      1      1   12.2875         2           3   \n",
       "..           ...     ...  ...    ...    ...       ...       ...         ...   \n",
       "413         1305       3    1      0      0    8.0500         2           1   \n",
       "414         1306       1    0      0      0  108.9000         0           1   \n",
       "415         1307       3    1      0      0    7.2500         2           1   \n",
       "416         1308       3    1      0      0    8.0500         2           1   \n",
       "417         1309       3    1      1      1   22.3583         0           3   \n",
       "\n",
       "     Age_Category  \n",
       "0               2  \n",
       "1               2  \n",
       "2               3  \n",
       "3               1  \n",
       "4               1  \n",
       "..            ...  \n",
       "413             1  \n",
       "414             2  \n",
       "415             2  \n",
       "416             1  \n",
       "417             1  \n",
       "\n",
       "[418 rows x 9 columns]"
      ]
     },
     "execution_count": 103,
     "metadata": {},
     "output_type": "execute_result"
    }
   ],
   "source": [
    "X_test"
   ]
  },
  {
   "cell_type": "markdown",
   "id": "20b5514c",
   "metadata": {},
   "source": [
    "## Results in Kaggle"
   ]
  },
  {
   "cell_type": "code",
   "execution_count": 92,
   "id": "e472124e",
   "metadata": {},
   "outputs": [
    {
     "data": {
      "text/plain": [
       "(-0.5, 765.5, 601.5, -0.5)"
      ]
     },
     "execution_count": 92,
     "metadata": {},
     "output_type": "execute_result"
    },
    {
     "data": {
      "image/png": "[encoded data removed]",
      "text/plain": [
       "<Figure size 640x480 with 1 Axes>"
      ]
     },
     "metadata": {},
     "output_type": "display_data"
    }
   ],
   "source": [
    "import os\n",
    "\n",
    "cwd= os.getcwd() # current working directory\n",
    "path = os.path.join(cwd,'data')\n",
    "fn=  os.path.join(path , 'results.png')\n",
    "image = np.array(plt.imread(fn))\n",
    "plt.figure()\n",
    "plt.imshow(image)\n",
    "plt.axis('off')"
   ]
  },
  {
   "cell_type": "code",
   "execution_count": null,
   "id": "b94a36c2",
   "metadata": {},
   "outputs": [],
   "source": []
  }
 ],
 "metadata": {
  "kernelspec": {
   "display_name": "Python 3 (ipykernel)",
   "language": "python",
   "name": "python3"
  },
  "language_info": {
   "codemirror_mode": {
    "name": "ipython",
    "version": 3
   },
   "file_extension": ".py",
   "mimetype": "text/x-python",
   "name": "python",
   "nbconvert_exporter": "python",
   "pygments_lexer": "ipython3",
   "version": "3.8.5"
  }
 },
 "nbformat": 4,
 "nbformat_minor": 5
}
