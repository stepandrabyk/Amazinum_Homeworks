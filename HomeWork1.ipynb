{
 "cells": [
  {
   "cell_type": "code",
   "execution_count": 3,
   "id": "c280e811",
   "metadata": {},
   "outputs": [],
   "source": [
    "import numpy as np\n",
    "import random\n"
   ]
  },
  {
   "cell_type": "code",
   "execution_count": 15,
   "id": "47c181e0",
   "metadata": {},
   "outputs": [
    {
     "name": "stdout",
     "output_type": "stream",
     "text": [
      "[[ 0.46014623  0.03043457]\n",
      " [ 0.90288015  0.1822648 ]\n",
      " [-0.83932856  0.50323849]\n",
      " ...\n",
      " [-0.70734085 -0.34491743]\n",
      " [ 0.6764333   0.68006178]\n",
      " [-0.50376171  0.30981564]]\n",
      "3.1419388\n"
     ]
    }
   ],
   "source": [
    "#np.random.randn(100)\n",
    "random_points = np.random.uniform(-1,1,size=(10000000,2))\n",
    "print(rp)\n",
    "points_in_circle = np.array([point for point in random_points if point[0] ** 2 + point[1] ** 2 <= 1])\n",
    "pi = len(points_in_circle)/random_points.size*2*4\n",
    "print(pi)"
   ]
  },
  {
   "cell_type": "code",
   "execution_count": 25,
   "id": "b0a001ee",
   "metadata": {
    "scrolled": true
   },
   "outputs": [
    {
     "name": "stdout",
     "output_type": "stream",
     "text": [
      "[[ 4 13]]\n"
     ]
    }
   ],
   "source": [
    "#TASK: find a and b \n",
    "from collections import Counter\n",
    "\n",
    "main_array = np.array([(x,y,x+y,x*y) for x in range(2,100) for y in range(x,100)])\n",
    "# first phrase\n",
    "repeating_products = np.array([k for k,v in Counter([x[3] for x in main_array]).items() if v>1])\n",
    "second_array = np.array([k for k in main_array if k[3] in repeating_products])\n",
    "# second phrase\n",
    "third_array = []\n",
    "for i in second_array:\n",
    "    sum = i[2]\n",
    "    pair_with_the_same_sum = np.array([j[3] for j in main_array if j[2] == sum])\n",
    "    if all(j in repeating_products for j in pair_with_the_same_sum):\n",
    "        third_array.append(i)\n",
    "a_b = np.array([(a[0],a[1]) for a in third_array])\n",
    "\n",
    "#third phrase\n",
    "not_repeating_products = np.array([k for k,v in Counter([x[3] for x in third_array]).items() if v==1])\n",
    "\n",
    "four_array = np.array([k for k in third_array if k[3] in not_repeating_products])\n",
    "\n",
    "#four phrase\n",
    "not_repeating_sums = np.array([k for k,v in Counter([x[2] for x in four_array]).items() if v==1])\n",
    "\n",
    "fifth_array = np.array([(k[0],k[1]) for k in four_array if k[2] in not_repeating_sums])\n",
    "print(fifth_array)\n",
    "\n",
    "   \n",
    "    "
   ]
  }
 ],
 "metadata": {
  "kernelspec": {
   "display_name": "Python 3 (ipykernel)",
   "language": "python",
   "name": "python3"
  },
  "language_info": {
   "codemirror_mode": {
    "name": "ipython",
    "version": 3
   },
   "file_extension": ".py",
   "mimetype": "text/x-python",
   "name": "python",
   "nbconvert_exporter": "python",
   "pygments_lexer": "ipython3",
   "version": "3.8.5"
  }
 },
 "nbformat": 4,
 "nbformat_minor": 5
}
